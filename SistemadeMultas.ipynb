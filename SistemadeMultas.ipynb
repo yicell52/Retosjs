{
  "nbformat": 4,
  "nbformat_minor": 0,
  "metadata": {
    "colab": {
      "name": "Reto2.ipynb",
      "provenance": [],
      "authorship_tag": "ABX9TyN+d6rvWIR9lVQXf9ZwGlxT",
      "include_colab_link": true
    },
    "kernelspec": {
      "name": "python3",
      "display_name": "Python 3"
    },
    "language_info": {
      "name": "python"
    }
  },
  "cells": [
    {
      "cell_type": "markdown",
      "metadata": {
        "id": "view-in-github",
        "colab_type": "text"
      },
      "source": [
        "<a href=\"https://colab.research.google.com/github/yicell52/Retosjs/blob/main/SistemadeMultas.ipynb\" target=\"_parent\"><img src=\"https://colab.research.google.com/assets/colab-badge.svg\" alt=\"Open In Colab\"/></a>"
      ]
    },
    {
      "cell_type": "code",
      "execution_count": 7,
      "metadata": {
        "colab": {
          "base_uri": "https://localhost:8080/"
        },
        "id": "8hQda8MZJmP_",
        "outputId": "f61acaf7-f46c-416c-a4c6-719422cf2686"
      },
      "outputs": [
        {
          "output_type": "stream",
          "name": "stdout",
          "text": [
            "12000 100 359\n",
            "CURSO SENSIBILIZACION\n"
          ]
        }
      ],
      "source": [
        "entrada = input().split()\n",
        "distancia = int(entrada [0])\n",
        "velMax = int(entrada [1])\n",
        "tiempo = int(entrada [2])\n",
        "\n",
        "if velMax >= 0 and distancia >= 0 and tiempo >= 0 :\n",
        "  velMax *= (1000/3600)\n",
        "  velMedia = distancia / tiempo \n",
        "\n",
        "\n",
        "  if velMedia <= velMax :\n",
        "    print(\"OK\")\n",
        "  elif velMedia < velMax *1.2 :\n",
        "      print(\"MULTA\")\n",
        "\n",
        "  else :\n",
        "      print(\"CURSO SENSIBILIZACION\")\n",
        "\n",
        "else :\n",
        "    print(\"ERROR\")\n",
        "\n"
      ]
    }
  ]
}